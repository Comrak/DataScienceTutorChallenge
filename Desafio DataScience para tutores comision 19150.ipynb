{
 "cells": [
  {
   "cell_type": "markdown",
   "id": "d1abc456",
   "metadata": {},
   "source": [
    "# JOSE RAFAEL NARDULLI COTO\n",
    "## Desafio DataScience para tutores comision 19150 "
   ]
  },
  {
   "cell_type": "markdown",
   "id": "7b00c359",
   "metadata": {},
   "source": [
    "### 1 Importar las librerías necesarias para la realización del desafío (Ej: pandas, numpy, matplotlib, etc) y el dataset propuesto para la ejercitación."
   ]
  },
  {
   "cell_type": "code",
   "execution_count": 23,
   "id": "5df1ac07",
   "metadata": {},
   "outputs": [],
   "source": [
    "import pandas as pd\n",
    "import plotly.express as px\n",
    "import numpy as np\n",
    "import matplotlib.pyplot as plt\n",
    "import seaborn as sns\n",
    "from seaborn import boxplot\n",
    "from seaborn import violinplot\n",
    "from matplotlib.ticker import FormatStrFormatter\n",
    "from sklearn.model_selection import train_test_split \n",
    "df = pd.read_csv('data/titanic.csv',delimiter=';')"
   ]
  },
  {
   "cell_type": "markdown",
   "id": "18e25606",
   "metadata": {},
   "source": [
    "### 2. Imprimir las 5 primeras filas."
   ]
  },
  {
   "cell_type": "code",
   "execution_count": 24,
   "id": "371d1a4b",
   "metadata": {},
   "outputs": [
    {
     "data": {
      "text/html": [
       "<div>\n",
       "<style scoped>\n",
       "    .dataframe tbody tr th:only-of-type {\n",
       "        vertical-align: middle;\n",
       "    }\n",
       "\n",
       "    .dataframe tbody tr th {\n",
       "        vertical-align: top;\n",
       "    }\n",
       "\n",
       "    .dataframe thead th {\n",
       "        text-align: right;\n",
       "    }\n",
       "</style>\n",
       "<table border=\"1\" class=\"dataframe\">\n",
       "  <thead>\n",
       "    <tr style=\"text-align: right;\">\n",
       "      <th></th>\n",
       "      <th>Survived</th>\n",
       "      <th>Pclass</th>\n",
       "      <th>Sex</th>\n",
       "      <th>Age</th>\n",
       "      <th>SibSp</th>\n",
       "      <th>Parch</th>\n",
       "    </tr>\n",
       "  </thead>\n",
       "  <tbody>\n",
       "    <tr>\n",
       "      <th>0</th>\n",
       "      <td>0</td>\n",
       "      <td>3</td>\n",
       "      <td>0</td>\n",
       "      <td>22.0</td>\n",
       "      <td>1</td>\n",
       "      <td>0</td>\n",
       "    </tr>\n",
       "    <tr>\n",
       "      <th>1</th>\n",
       "      <td>1</td>\n",
       "      <td>1</td>\n",
       "      <td>1</td>\n",
       "      <td>38.0</td>\n",
       "      <td>1</td>\n",
       "      <td>0</td>\n",
       "    </tr>\n",
       "    <tr>\n",
       "      <th>2</th>\n",
       "      <td>1</td>\n",
       "      <td>3</td>\n",
       "      <td>1</td>\n",
       "      <td>26.0</td>\n",
       "      <td>0</td>\n",
       "      <td>0</td>\n",
       "    </tr>\n",
       "    <tr>\n",
       "      <th>3</th>\n",
       "      <td>1</td>\n",
       "      <td>1</td>\n",
       "      <td>1</td>\n",
       "      <td>35.0</td>\n",
       "      <td>1</td>\n",
       "      <td>0</td>\n",
       "    </tr>\n",
       "    <tr>\n",
       "      <th>4</th>\n",
       "      <td>0</td>\n",
       "      <td>3</td>\n",
       "      <td>0</td>\n",
       "      <td>35.0</td>\n",
       "      <td>0</td>\n",
       "      <td>0</td>\n",
       "    </tr>\n",
       "  </tbody>\n",
       "</table>\n",
       "</div>"
      ],
      "text/plain": [
       "   Survived  Pclass  Sex   Age  SibSp  Parch\n",
       "0         0       3    0  22.0      1      0\n",
       "1         1       1    1  38.0      1      0\n",
       "2         1       3    1  26.0      0      0\n",
       "3         1       1    1  35.0      1      0\n",
       "4         0       3    0  35.0      0      0"
      ]
     },
     "execution_count": 24,
     "metadata": {},
     "output_type": "execute_result"
    }
   ],
   "source": [
    "df.head()"
   ]
  },
  {
   "cell_type": "markdown",
   "id": "eb6d2355",
   "metadata": {},
   "source": [
    "### 3. Imprimir las 5 últimas filas."
   ]
  },
  {
   "cell_type": "code",
   "execution_count": 25,
   "id": "2a434af8",
   "metadata": {},
   "outputs": [
    {
     "data": {
      "text/html": [
       "<div>\n",
       "<style scoped>\n",
       "    .dataframe tbody tr th:only-of-type {\n",
       "        vertical-align: middle;\n",
       "    }\n",
       "\n",
       "    .dataframe tbody tr th {\n",
       "        vertical-align: top;\n",
       "    }\n",
       "\n",
       "    .dataframe thead th {\n",
       "        text-align: right;\n",
       "    }\n",
       "</style>\n",
       "<table border=\"1\" class=\"dataframe\">\n",
       "  <thead>\n",
       "    <tr style=\"text-align: right;\">\n",
       "      <th></th>\n",
       "      <th>Survived</th>\n",
       "      <th>Pclass</th>\n",
       "      <th>Sex</th>\n",
       "      <th>Age</th>\n",
       "      <th>SibSp</th>\n",
       "      <th>Parch</th>\n",
       "    </tr>\n",
       "  </thead>\n",
       "  <tbody>\n",
       "    <tr>\n",
       "      <th>709</th>\n",
       "      <td>0</td>\n",
       "      <td>3</td>\n",
       "      <td>1</td>\n",
       "      <td>39.0</td>\n",
       "      <td>0</td>\n",
       "      <td>5</td>\n",
       "    </tr>\n",
       "    <tr>\n",
       "      <th>710</th>\n",
       "      <td>0</td>\n",
       "      <td>2</td>\n",
       "      <td>0</td>\n",
       "      <td>27.0</td>\n",
       "      <td>0</td>\n",
       "      <td>0</td>\n",
       "    </tr>\n",
       "    <tr>\n",
       "      <th>711</th>\n",
       "      <td>1</td>\n",
       "      <td>1</td>\n",
       "      <td>1</td>\n",
       "      <td>19.0</td>\n",
       "      <td>0</td>\n",
       "      <td>0</td>\n",
       "    </tr>\n",
       "    <tr>\n",
       "      <th>712</th>\n",
       "      <td>1</td>\n",
       "      <td>1</td>\n",
       "      <td>0</td>\n",
       "      <td>26.0</td>\n",
       "      <td>0</td>\n",
       "      <td>0</td>\n",
       "    </tr>\n",
       "    <tr>\n",
       "      <th>713</th>\n",
       "      <td>0</td>\n",
       "      <td>3</td>\n",
       "      <td>0</td>\n",
       "      <td>32.0</td>\n",
       "      <td>0</td>\n",
       "      <td>0</td>\n",
       "    </tr>\n",
       "  </tbody>\n",
       "</table>\n",
       "</div>"
      ],
      "text/plain": [
       "     Survived  Pclass  Sex   Age  SibSp  Parch\n",
       "709         0       3    1  39.0      0      5\n",
       "710         0       2    0  27.0      0      0\n",
       "711         1       1    1  19.0      0      0\n",
       "712         1       1    0  26.0      0      0\n",
       "713         0       3    0  32.0      0      0"
      ]
     },
     "execution_count": 25,
     "metadata": {},
     "output_type": "execute_result"
    }
   ],
   "source": [
    "df.tail()"
   ]
  },
  {
   "cell_type": "markdown",
   "id": "6038eef9",
   "metadata": {},
   "source": [
    "### 4. Imprimir las dimensiones del dataset."
   ]
  },
  {
   "cell_type": "code",
   "execution_count": 26,
   "id": "80128982",
   "metadata": {},
   "outputs": [
    {
     "data": {
      "text/plain": [
       "(714, 6)"
      ]
     },
     "execution_count": 26,
     "metadata": {},
     "output_type": "execute_result"
    }
   ],
   "source": [
    "df.shape"
   ]
  },
  {
   "cell_type": "markdown",
   "id": "05f21e8a",
   "metadata": {},
   "source": [
    "### 5. Obtener la totalidad de registros por columnas."
   ]
  },
  {
   "cell_type": "code",
   "execution_count": 27,
   "id": "6c154a85",
   "metadata": {},
   "outputs": [
    {
     "data": {
      "text/plain": [
       "Survived    714\n",
       "Pclass      714\n",
       "Sex         714\n",
       "Age         714\n",
       "SibSp       714\n",
       "Parch       714\n",
       "dtype: int64"
      ]
     },
     "execution_count": 27,
     "metadata": {},
     "output_type": "execute_result"
    }
   ],
   "source": [
    "df.count()"
   ]
  },
  {
   "cell_type": "markdown",
   "id": "559d6660",
   "metadata": {},
   "source": [
    "### 6. Analizar el tipo de dato de cada columna."
   ]
  },
  {
   "cell_type": "code",
   "execution_count": 28,
   "id": "51b53e03",
   "metadata": {},
   "outputs": [
    {
     "data": {
      "text/plain": [
       "Survived      int64\n",
       "Pclass        int64\n",
       "Sex           int64\n",
       "Age         float64\n",
       "SibSp         int64\n",
       "Parch         int64\n",
       "dtype: object"
      ]
     },
     "execution_count": 28,
     "metadata": {},
     "output_type": "execute_result"
    }
   ],
   "source": [
    "df.dtypes"
   ]
  },
  {
   "cell_type": "markdown",
   "id": "e21b1561",
   "metadata": {},
   "source": [
    "### 7. Obtener el tipo de estructura del dataset. Ej: si es o no un DataFrame."
   ]
  },
  {
   "cell_type": "code",
   "execution_count": 29,
   "id": "9c6e165f",
   "metadata": {},
   "outputs": [
    {
     "data": {
      "text/plain": [
       "pandas.core.frame.DataFrame"
      ]
     },
     "execution_count": 29,
     "metadata": {},
     "output_type": "execute_result"
    }
   ],
   "source": [
    "type(df)"
   ]
  },
  {
   "cell_type": "markdown",
   "id": "95015fbe",
   "metadata": {},
   "source": [
    "### 8. Listar los nombres de las columnas."
   ]
  },
  {
   "cell_type": "code",
   "execution_count": 30,
   "id": "24e44c6e",
   "metadata": {},
   "outputs": [
    {
     "name": "stdout",
     "output_type": "stream",
     "text": [
      "['Survived', 'Pclass', 'Sex', 'Age', 'SibSp', 'Parch']\n"
     ]
    }
   ],
   "source": [
    "print(df.columns.tolist())"
   ]
  },
  {
   "cell_type": "markdown",
   "id": "8b4fede4",
   "metadata": {},
   "source": [
    "### 9. Separar los features en una variable X y la variable target en Y."
   ]
  },
  {
   "cell_type": "code",
   "execution_count": 32,
   "id": "934c02ea",
   "metadata": {},
   "outputs": [],
   "source": [
    "X = df.drop('Survived', axis=1) #Elimino de mi dataset la variable a predecir\n",
    "Y = df.Survived #Defino el Target"
   ]
  },
  {
   "cell_type": "markdown",
   "id": "be1251b1",
   "metadata": {},
   "source": [
    "### 10. Separar los datos en Train (70 %) y Test (30 %) con un random_state=42."
   ]
  },
  {
   "cell_type": "code",
   "execution_count": 33,
   "id": "789d25b7",
   "metadata": {},
   "outputs": [],
   "source": [
    "X_train, X_test, y_train, y_test = train_test_split(X, Y, test_size=0.30, random_state=42) "
   ]
  },
  {
   "cell_type": "markdown",
   "id": "eaf177ee",
   "metadata": {},
   "source": [
    "### 11. Crear un objeto de Árbol de Decisión para un modelo declasificación, con los siguientes parámetros predefinidos:\n",
    "### a. Nivel de Profundidad = 2\n",
    "### b. Semilla para la reproducibilidad = 42"
   ]
  },
  {
   "cell_type": "code",
   "execution_count": 34,
   "id": "3515af39",
   "metadata": {},
   "outputs": [],
   "source": [
    "from sklearn.tree import DecisionTreeClassifier \n",
    "tree = DecisionTreeClassifier(max_depth=2, random_state = 42) "
   ]
  },
  {
   "cell_type": "markdown",
   "id": "24693f62",
   "metadata": {},
   "source": [
    "### 12. Entrenar el modelo creado."
   ]
  },
  {
   "cell_type": "code",
   "execution_count": 35,
   "id": "190922ab",
   "metadata": {},
   "outputs": [
    {
     "data": {
      "text/plain": [
       "DecisionTreeClassifier(max_depth=2, random_state=42)"
      ]
     },
     "execution_count": 35,
     "metadata": {},
     "output_type": "execute_result"
    }
   ],
   "source": [
    "tree.fit(X_train,y_train)"
   ]
  },
  {
   "cell_type": "markdown",
   "id": "04283cd9",
   "metadata": {},
   "source": [
    "### 13. Realizar la predicción del modelo en Train y Test."
   ]
  },
  {
   "cell_type": "code",
   "execution_count": 36,
   "id": "452bd803",
   "metadata": {},
   "outputs": [],
   "source": [
    "y_train_pred = tree.predict(X_train) #Prediccion en Train\n",
    "y_test_pred = tree.predict(X_test) #Prediccion en Test"
   ]
  },
  {
   "cell_type": "markdown",
   "id": "76a6c6b0",
   "metadata": {},
   "source": [
    "### 14. Calcular la métrica de Accuracy en Train y Test para la comparación posterior de los modelos."
   ]
  },
  {
   "cell_type": "code",
   "execution_count": 37,
   "id": "02fdf916",
   "metadata": {},
   "outputs": [
    {
     "name": "stdout",
     "output_type": "stream",
     "text": [
      "% de aciertos sobre el set de entrenamiento: 0.8096192384769539\n",
      "% de aciertos sobre el set de evaluación: 0.786046511627907\n"
     ]
    }
   ],
   "source": [
    "from sklearn.metrics import accuracy_score\n",
    "\n",
    "#Calculo el accuracy en Train\n",
    "train_accuracy = accuracy_score(y_train, y_train_pred)\n",
    "\n",
    "#Calculo el accuracy en Test\n",
    "test_accuracy = accuracy_score(y_test, y_test_pred)\n",
    "\n",
    "print('% de aciertos sobre el set de entrenamiento:', train_accuracy)\n",
    "print('% de aciertos sobre el set de evaluación:',test_accuracy)"
   ]
  },
  {
   "cell_type": "markdown",
   "id": "05c7d335",
   "metadata": {},
   "source": [
    "### 15. Graficar las variables de importancia del Árbol de Decisión creado (feature_importances_)."
   ]
  },
  {
   "cell_type": "code",
   "execution_count": 39,
   "id": "a329cf3c",
   "metadata": {},
   "outputs": [
    {
     "data": {
      "image/png": "[encoded data removed]",
      "text/plain": [
       "<Figure size 864x864 with 1 Axes>"
      ]
     },
     "metadata": {
      "needs_background": "light"
     },
     "output_type": "display_data"
    }
   ],
   "source": [
    "from sklearn.tree import plot_tree\n",
    "plt.figure(figsize=(12,12))\n",
    "plot_tree(decision_tree = tree, feature_names=df.columns, filled = True);"
   ]
  }
 ],
 "metadata": {
  "kernelspec": {
   "display_name": "Python 3 (ipykernel)",
   "language": "python",
   "name": "python3"
  },
  "language_info": {
   "codemirror_mode": {
    "name": "ipython",
    "version": 3
   },
   "file_extension": ".py",
   "mimetype": "text/x-python",
   "name": "python",
   "nbconvert_exporter": "python",
   "pygments_lexer": "ipython3",
   "version": "3.9.5"
  }
 },
 "nbformat": 4,
 "nbformat_minor": 5
}
